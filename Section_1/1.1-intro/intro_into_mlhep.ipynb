{
 "cells": [
  {
   "cell_type": "markdown",
   "metadata": {
    "collapsed": false
   },
   "source": [
    "<table>\n",
    "  <tr>\n",
    "    <td><center><img src=\"../../img/mlhep-logo-transparent-400.png\" width=\"400\"></center></td>\n",
    "    <td><h1><center>The Sixth Machine Learning <br/>for High Energy Physics Summer School 2020</center></h1></td>\n",
    "  </tr>\n",
    " </table>\n",
    "\n",
    "## Introduction to the seminar structure\n",
    "This notebook serves as a very basic part that should help you get familiar with different kinds of tasks you can throughout the school seminars. From easiest to more and more difficult those range from:\n",
    "- *follow the speaker* or just regular python cells that one can execute inside own `cocalc` project environment.\n",
    "- *write your own piece of code*\n",
    "- *test your code with explicit tests* and ask for assistance if it doesn't work\n",
    "- *be ready to run your code through external tests*\n",
    "\n",
    "So, having those shades of gray in mind, we start from a simple 2000-years old algorithm, then peek at system resources available. Afterwards, we accomplish code writing assignment and move on to the tests that help you getting scored."
   ]
  },
  {
   "cell_type": "markdown",
   "metadata": {
    "collapsed": false
   },
   "source": [
    "### Simple function for finding greatest common denominator"
   ]
  },
  {
   "cell_type": "code",
   "execution_count": 0,
   "metadata": {
    "cocalc": {
     "outputs": {
      "0": {
       "name": "input",
       "opts": {
        "password": false,
        "prompt": "Number A"
       },
       "output_type": "stream",
       "value": "10"
      }
     }
    },
    "collapsed": false,
    "jupyter": {
     "outputs_hidden": false
    }
   },
   "outputs": [
   ],
   "source": [
    "a = int(input(\"Number A\"))"
   ]
  },
  {
   "cell_type": "code",
   "execution_count": 0,
   "metadata": {
    "cocalc": {
     "outputs": {
      "0": {
       "name": "input",
       "opts": {
        "password": false,
        "prompt": "Number B"
       },
       "output_type": "stream",
       "value": "8"
      }
     }
    },
    "collapsed": false,
    "jupyter": {
     "outputs_hidden": false
    }
   },
   "outputs": [
   ],
   "source": [
    "b = int(input(\"Number B\"))"
   ]
  },
  {
   "cell_type": "code",
   "execution_count": 0,
   "metadata": {
    "collapsed": false,
    "jupyter": {
     "outputs_hidden": false
    }
   },
   "outputs": [
   ],
   "source": [
    "def gcd(a, b):\n",
    "    \"\"\" Euclidean algorithm for finding greatest common denominator \n",
    "    a, b - integer numbers\n",
    "    \"\"\"\n",
    "    if a < b:\n",
    "        return gcd(b, a)\n",
    "    if a % b > 0:\n",
    "        return gcd(a, a % b)\n",
    "    else:\n",
    "        return b"
   ]
  },
  {
   "cell_type": "markdown",
   "metadata": {
    "collapsed": false
   },
   "source": [
    "**Hint**: Press `Shift-tab` inside function argument brackets of the next cell to see the help snippet."
   ]
  },
  {
   "cell_type": "code",
   "execution_count": 0,
   "metadata": {
    "collapsed": false,
    "jupyter": {
     "outputs_hidden": false
    }
   },
   "outputs": [
   ],
   "source": [
    "gcd(a, b)"
   ]
  },
  {
   "cell_type": "markdown",
   "metadata": {
    "collapsed": false
   },
   "source": [
    "### System resources check"
   ]
  },
  {
   "cell_type": "code",
   "execution_count": 0,
   "metadata": {
    "collapsed": false,
    "jupyter": {
     "outputs_hidden": false
    }
   },
   "outputs": [
   ],
   "source": [
    "# path\n",
    "!pwd"
   ]
  },
  {
   "cell_type": "code",
   "execution_count": 0,
   "metadata": {
    "collapsed": false,
    "jupyter": {
     "outputs_hidden": false
    }
   },
   "outputs": [
   ],
   "source": [
    "# free memory\n",
    "!free -m"
   ]
  },
  {
   "cell_type": "code",
   "execution_count": 0,
   "metadata": {
    "collapsed": false,
    "jupyter": {
     "outputs_hidden": false
    }
   },
   "outputs": [
   ],
   "source": [
    "# disk resources\n",
    "!df -h"
   ]
  },
  {
   "cell_type": "markdown",
   "metadata": {
    "collapsed": false
   },
   "source": [
    "### Let's write some code and test it"
   ]
  },
  {
   "cell_type": "code",
   "execution_count": 0,
   "metadata": {
    "collapsed": false,
    "jupyter": {
     "outputs_hidden": false
    },
    "nbgrader": {
     "grade": false,
     "grade_id": "a47442",
     "locked": false,
     "schema_version": 3,
     "solution": true,
     "task": false
    }
   },
   "outputs": [
   ],
   "source": [
    "def sum_1_to_n(N):\n",
    "    \"\"\"\n",
    "    Given integer N compute the sum of integer numbers from 1 to N\n",
    "    if N is less than zero, return -sum_1_to_n(-N)\n",
    "    \"\"\"\n",
    "    ### BEGIN SOLUTION\n",
    "    if N < 0:\n",
    "        return -sum_1_to_n(-N)\n",
    "    else:\n",
    "        result = int(N * (N+1) / 2)\n",
    "\n",
    "    ### END SOLUTION\n",
    "    return result"
   ]
  },
  {
   "cell_type": "code",
   "execution_count": 0,
   "metadata": {
    "collapsed": false,
    "jupyter": {
     "outputs_hidden": false
    }
   },
   "outputs": [
   ],
   "source": [
    "sum_1_to_n(10)"
   ]
  },
  {
   "cell_type": "code",
   "execution_count": 0,
   "metadata": {
    "collapsed": false,
    "jupyter": {
     "outputs_hidden": false
    }
   },
   "outputs": [
   ],
   "source": [
    "from nose.tools import assert_equal, timed\n",
    "import numpy.testing as np_testing\n",
    "import time"
   ]
  },
  {
   "cell_type": "markdown",
   "metadata": {
    "collapsed": false
   },
   "source": [
    "**Explicit local tests**\n",
    "\n",
    "Those test can verify different aspects of your code like accuracy, timing or anything one can put inside an assert statement of similar kind.\n",
    "If any of those do not pass, and you feel like you got stuck, it is good time to ask for **assistance**."
   ]
  },
  {
   "cell_type": "code",
   "execution_count": 0,
   "metadata": {
    "collapsed": false,
    "jupyter": {
     "outputs_hidden": false
    },
    "nbgrader": {
     "grade": true,
     "grade_id": "simple_checks",
     "locked": true,
     "points": 1,
     "schema_version": 3,
     "solution": false,
     "task": false
    }
   },
   "outputs": [
   ],
   "source": [
    "np_testing.assert_equal(sum_1_to_n(10), 55)\n",
    "np_testing.assert_equal(sum_1_to_n(0), 0)"
   ]
  },
  {
   "cell_type": "code",
   "execution_count": 0,
   "metadata": {
    "collapsed": false
   },
   "outputs": [
   ],
   "source": [
   ]
  },
  {
   "cell_type": "markdown",
   "metadata": {
    "collapsed": false
   },
   "source": [
    "**External tests to be checked on instructor side**\n",
    "\n",
    "Those are essentially doing the same thing as explicit local ones, but the verification happens on instructor's side, so you cannot execute the following two cells on your own."
   ]
  },
  {
   "cell_type": "code",
   "execution_count": 0,
   "metadata": {
    "collapsed": false,
    "jupyter": {
     "outputs_hidden": false
    },
    "nbgrader": {
     "grade": true,
     "grade_id": "accuracy_check",
     "locked": true,
     "points": 1,
     "schema_version": 3,
     "solution": false,
     "task": false
    }
   },
   "outputs": [
   ],
   "source": [
    "# This cell is going to check function output\n",
    "### BEGIN HIDDEN TESTS\n",
    "np_testing.assert_equal(sum_1_to_n(-10), -55),\n",
    "np_testing.assert_equal(sum_1_to_n(0), 0),\n",
    "\n",
    "### END HIDDEN TESTS"
   ]
  },
  {
   "cell_type": "code",
   "execution_count": 0,
   "metadata": {
    "collapsed": false,
    "jupyter": {
     "outputs_hidden": false
    },
    "nbgrader": {
     "grade": true,
     "grade_id": "speed_check",
     "locked": true,
     "points": 1,
     "schema_version": 3,
     "solution": false,
     "task": false
    }
   },
   "outputs": [
   ],
   "source": [
    "# This cell is going to check function speed\n",
    "### BEGIN HIDDEN TESTS\n",
    "@timed(1e-4)\n",
    "def time_testing(N):\n",
    "    sum_1_to_n(N)\n",
    "time_testing(10000)\n",
    "### END HIDDEN TESTS\n"
   ]
  },
  {
   "cell_type": "markdown",
   "metadata": {
    "collapsed": false
   },
   "source": [
    "## That's it!\n",
    "If all explicit test above has finished successfully, you know how to address typical code problems in a meaningful way. Now you have to be patient before getting scored results since processing tests on the instructor side takes some time."
   ]
  },
  {
   "cell_type": "code",
   "execution_count": 0,
   "metadata": {
    "collapsed": false,
    "jupyter": {
     "outputs_hidden": false
    }
   },
   "outputs": [
   ],
   "source": [
   ]
  }
 ],
 "metadata": {
  "kernelspec": {
   "display_name": "Python 3",
   "language": "python",
   "name": "python3"
  },
  "language_info": {
   "codemirror_mode": {
    "name": "ipython",
    "version": 3
   },
   "file_extension": ".py",
   "mimetype": "text/x-python",
   "name": "python",
   "nbconvert_exporter": "python",
   "pygments_lexer": "ipython3",
   "version": "3.6.9"
  }
 },
 "nbformat": 4,
 "nbformat_minor": 4
}
