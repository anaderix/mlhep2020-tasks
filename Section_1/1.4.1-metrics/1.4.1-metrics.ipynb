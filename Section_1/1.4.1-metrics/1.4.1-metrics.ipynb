{
 "cells": [
  {
   "cell_type": "markdown",
   "metadata": {
    "collapsed": false
   },
   "source": [
    "<table>\n",
    "  <tr>\n",
    "    <td><center><img src=\"img/mlhep-logo-transparent.png\" width=\"400\"></center></td>\n",
    "    <td><h1><center>The Sixth Machine Learning in High Energy Physics Summer School (MLHEP) 2020</center></h1></td>\n",
    "  </tr>\n",
    " </table>\n",
    "\n",
    "<h1><center>Seminar</center></h1>\n",
    "<h2><center>Quality metrics for regression and classification</center></h2>"
   ]
  },
  {
   "cell_type": "code",
   "execution_count": 1,
   "metadata": {
    "collapsed": false
   },
   "outputs": [
   ],
   "source": [
    "%matplotlib inline\n",
    "import pandas as pd\n",
    "import numpy as np\n",
    "import numpy.testing as np_testing\n",
    "import matplotlib.pyplot as plt"
   ]
  },
  {
   "cell_type": "markdown",
   "metadata": {
    "collapsed": false
   },
   "source": [
    "# Part 1: Classification quality metrics\n",
    "\n",
    "We will consider a range of classification quality metrics solving a classification problem using several classifiers. We will compare these classifiers and select the best one for a particular problem."
   ]
  },
  {
   "cell_type": "markdown",
   "metadata": {
    "collapsed": false
   },
   "source": [
    "## Read Data\n",
    "\n",
    "We are going to consider a dataset from a [UCI HTRU2](https://archive.ics.uci.edu/ml/datasets/HTRU2). \n",
    "\n",
    "\tHTRU2 is a data set which describes a sample of pulsar candidates collected during the\n",
    "\tHigh Time Resolution Universe Survey (South). \n",
    "\t\n",
    "\tPulsars are a rare type of Neutron star that produce radio emission detectable here on\n",
    "\tEarth. They are of considerable scientific interest as probes of space-time, the inter-\n",
    "\tstellar medium, and states of matter (see [2] for more uses). \n",
    "\t\n",
    "\tAs pulsars rotate, their emission beam sweeps across the sky, and when this crosses\n",
    "\tour line of sight, produces a detectable pattern of broadband radio emission. As pulsars\n",
    "\trotate rapidly, this pattern repeats periodically. Thus pulsar search involves looking\n",
    "\tfor periodic radio signals with large radio telescopes.\n",
    "\t\n",
    "\tEach pulsar produces a slightly different emission pattern, which varies slightly with each\n",
    "\trotation (see [2] for an introduction to pulsar astrophysics to find out why). Thus a \n",
    "\tpotential signal detection known as a 'candidate', is averaged over many rotations of the\n",
    "\tpulsar, as determined by the length of an observation. In the absence of additional info,\n",
    "\teach candidate could potentially describe a real pulsar. However in practice almost all\n",
    "\tdetections are caused by radio frequency interference (RFI) and noise, making legitimate\n",
    "\tsignals hard to find.\n",
    "    \n",
    "\tThe data set shared here contains 16,259 spurious examples caused by RFI/noise, and 1,639\n",
    "\treal pulsar examples. These examples have all been checked by human annotators. Each\n",
    "\tcandidate is described by 8 continuous variables. The first four are simple statistics\n",
    "\tobtained from the integrated pulse profile (folded profile). This is an array of continuous\n",
    "\tvariables that describe a longitude-resolved version of the signal that has been averaged\n",
    "\tin both time and frequency (see [3] for more details). The remaining four variables are\n",
    "\tsimilarly obtained from the DM-SNR curve (again see [3] for more details).\n",
    "\n",
    "Dataset description:\n",
    "\n",
    "* **MeanInt:** Mean of the integrated profile.\n",
    "* **StdInt:** Standard deviation of the integrated profile.\n",
    "* **ExcessInt:** Excess kurtosis of the integrated profile.\n",
    "* **SkewnessInt:** Skewness of the integrated profile.\n",
    "* **MeanDM:** Mean of the DM-SNR curve.\n",
    "* **StdDM:** Standard deviation of the DM-SNR curve.\n",
    "* **ExcessDM:** Excess kurtosis of the DM-SNR curve.\n",
    "* **SkewnessDM:** Skewness of the DM-SNR curve.\n",
    "* **Label:** The class labels used are 0 (negative) and 1 (positive)."
   ]
  },
  {
   "cell_type": "code",
   "execution_count": 2,
   "metadata": {
    "collapsed": false
   },
   "outputs": [
   ],
   "source": [
    "# define column names\n",
    "col_names = ['MeanInt', 'StdInt', 'ExcessInt', 'SkewnessInt', \n",
    "             'MeanDM', 'StdDM', 'ExcessDM', 'SkewnessDM', 'Label']\n",
    "\n",
    "# read data\n",
    "data = pd.read_csv('data/HTRU2/HTRU_2.csv', header=None, names=col_names)"
   ]
  },
  {
   "cell_type": "code",
   "execution_count": 3,
   "metadata": {
    "collapsed": false
   },
   "outputs": [
    {
     "data": {
      "text/html": [
       "<div>\n",
       "<style scoped>\n",
       "    .dataframe tbody tr th:only-of-type {\n",
       "        vertical-align: middle;\n",
       "    }\n",
       "\n",
       "    .dataframe tbody tr th {\n",
       "        vertical-align: top;\n",
       "    }\n",
       "\n",
       "    .dataframe thead th {\n",
       "        text-align: right;\n",
       "    }\n",
       "</style>\n",
       "<table border=\"1\" class=\"dataframe\">\n",
       "  <thead>\n",
       "    <tr style=\"text-align: right;\">\n",
       "      <th></th>\n",
       "      <th>MeanInt</th>\n",
       "      <th>StdInt</th>\n",
       "      <th>ExcessInt</th>\n",
       "      <th>SkewnessInt</th>\n",
       "      <th>MeanDM</th>\n",
       "      <th>StdDM</th>\n",
       "      <th>ExcessDM</th>\n",
       "      <th>SkewnessDM</th>\n",
       "      <th>Label</th>\n",
       "    </tr>\n",
       "  </thead>\n",
       "  <tbody>\n",
       "    <tr>\n",
       "      <td>0</td>\n",
       "      <td>140.562500</td>\n",
       "      <td>55.683782</td>\n",
       "      <td>-0.234571</td>\n",
       "      <td>-0.699648</td>\n",
       "      <td>3.199833</td>\n",
       "      <td>19.110426</td>\n",
       "      <td>7.975532</td>\n",
       "      <td>74.242225</td>\n",
       "      <td>0</td>\n",
       "    </tr>\n",
       "    <tr>\n",
       "      <td>1</td>\n",
       "      <td>102.507812</td>\n",
       "      <td>58.882430</td>\n",
       "      <td>0.465318</td>\n",
       "      <td>-0.515088</td>\n",
       "      <td>1.677258</td>\n",
       "      <td>14.860146</td>\n",
       "      <td>10.576487</td>\n",
       "      <td>127.393580</td>\n",
       "      <td>0</td>\n",
       "    </tr>\n",
       "    <tr>\n",
       "      <td>2</td>\n",
       "      <td>103.015625</td>\n",
       "      <td>39.341649</td>\n",
       "      <td>0.323328</td>\n",
       "      <td>1.051164</td>\n",
       "      <td>3.121237</td>\n",
       "      <td>21.744669</td>\n",
       "      <td>7.735822</td>\n",
       "      <td>63.171909</td>\n",
       "      <td>0</td>\n",
       "    </tr>\n",
       "    <tr>\n",
       "      <td>3</td>\n",
       "      <td>136.750000</td>\n",
       "      <td>57.178449</td>\n",
       "      <td>-0.068415</td>\n",
       "      <td>-0.636238</td>\n",
       "      <td>3.642977</td>\n",
       "      <td>20.959280</td>\n",
       "      <td>6.896499</td>\n",
       "      <td>53.593661</td>\n",
       "      <td>0</td>\n",
       "    </tr>\n",
       "    <tr>\n",
       "      <td>4</td>\n",
       "      <td>88.726562</td>\n",
       "      <td>40.672225</td>\n",
       "      <td>0.600866</td>\n",
       "      <td>1.123492</td>\n",
       "      <td>1.178930</td>\n",
       "      <td>11.468720</td>\n",
       "      <td>14.269573</td>\n",
       "      <td>252.567306</td>\n",
       "      <td>0</td>\n",
       "    </tr>\n",
       "  </tbody>\n",
       "</table>\n",
       "</div>"
      ],
      "text/plain": [
       "      MeanInt     StdInt  ExcessInt  SkewnessInt    MeanDM      StdDM  \\\n",
       "0  140.562500  55.683782  -0.234571    -0.699648  3.199833  19.110426   \n",
       "1  102.507812  58.882430   0.465318    -0.515088  1.677258  14.860146   \n",
       "2  103.015625  39.341649   0.323328     1.051164  3.121237  21.744669   \n",
       "3  136.750000  57.178449  -0.068415    -0.636238  3.642977  20.959280   \n",
       "4   88.726562  40.672225   0.600866     1.123492  1.178930  11.468720   \n",
       "\n",
       "    ExcessDM  SkewnessDM  Label  \n",
       "0   7.975532   74.242225      0  \n",
       "1  10.576487  127.393580      0  \n",
       "2   7.735822   63.171909      0  \n",
       "3   6.896499   53.593661      0  \n",
       "4  14.269573  252.567306      0  "
      ]
     },
     "execution_count": 3,
     "metadata": {
     },
     "output_type": "execute_result"
    }
   ],
   "source": [
    "data.head()"
   ]
  },
  {
   "cell_type": "markdown",
   "metadata": {
    "collapsed": false
   },
   "source": [
    "## Train / Test Split"
   ]
  },
  {
   "cell_type": "code",
   "execution_count": 4,
   "metadata": {
    "collapsed": false
   },
   "outputs": [
   ],
   "source": [
    "# estimate Label column\n",
    "label_col = data.columns == 'Label'\n",
    "\n",
    "# Take all columns that are not Label\n",
    "X = data.loc[:, ~label_col].values\n",
    "\n",
    "# Take Label column\n",
    "y = data.loc[:, label_col].values.flatten()"
   ]
  },
  {
   "cell_type": "code",
   "execution_count": 5,
   "metadata": {
    "collapsed": false
   },
   "outputs": [
    {
     "data": {
      "text/plain": [
       "array([[140.5625    ,  55.68378214,  -0.23457141,  -0.6996484 ,\n",
       "          3.19983278,  19.11042633,   7.97553179,  74.24222492],\n",
       "       [102.5078125 ,  58.88243001,   0.46531815,  -0.51508791,\n",
       "          1.67725752,  14.86014572,  10.57648674, 127.3935796 ]])"
      ]
     },
     "execution_count": 5,
     "metadata": {
     },
     "output_type": "execute_result"
    }
   ],
   "source": [
    "X[:2]"
   ]
  },
  {
   "cell_type": "code",
   "execution_count": 6,
   "metadata": {
    "collapsed": false
   },
   "outputs": [
    {
     "data": {
      "text/plain": [
       "array([0, 0, 0, 0, 0, 0, 0, 0, 0, 0])"
      ]
     },
     "execution_count": 6,
     "metadata": {
     },
     "output_type": "execute_result"
    }
   ],
   "source": [
    "y[:10]"
   ]
  },
  {
   "cell_type": "code",
   "execution_count": 7,
   "metadata": {
    "collapsed": false
   },
   "outputs": [
   ],
   "source": [
    "from sklearn.model_selection import train_test_split\n",
    "\n",
    "# Split data into train and test samples\n",
    "X_train, X_test, y_train, y_test = train_test_split(X, y, test_size=0.5, random_state=42, stratify=y)"
   ]
  },
  {
   "cell_type": "markdown",
   "metadata": {
    "collapsed": false
   },
   "source": [
    "## Preprocessing"
   ]
  },
  {
   "cell_type": "markdown",
   "metadata": {
    "collapsed": false
   },
   "source": [
    "Scale input data using StandardScaler:\n",
    "$$\n",
    "X_{new} = \\frac{X - \\mu}{\\sigma}\n",
    "$$"
   ]
  },
  {
   "cell_type": "code",
   "execution_count": 8,
   "metadata": {
    "collapsed": false
   },
   "outputs": [
   ],
   "source": [
    "# Import StandardScaler\n",
    "from sklearn.preprocessing import StandardScaler\n",
    "\n",
    "# Create object of the class and set up its parameters\n",
    "ss = StandardScaler()\n",
    "\n",
    "# Estimate mean and sigma values\n",
    "ss.fit(X_train)\n",
    "\n",
    "# Scale train and test samples\n",
    "X_train = ss.transform(X_train)\n",
    "X_test = ss.transform(X_test)"
   ]
  },
  {
   "cell_type": "markdown",
   "metadata": {
    "collapsed": false
   },
   "source": [
    "## Fit Classifiers\n",
    "\n",
    "We will consider three classifiers:\n",
    "* kNN\n",
    "* Decision Tree\n",
    "* Logistic Regression\n",
    "\n",
    "We will use scikit-learn implementations of these classifiers. Their descriptions: [kNN](https://scikit-learn.org/stable/modules/generated/sklearn.neighbors.KNeighborsClassifier.html), [Decision Tree](https://scikit-learn.org/stable/modules/generated/sklearn.tree.DecisionTreeClassifier.html), [Logistic Regression](https://scikit-learn.org/stable/modules/generated/sklearn.linear_model.LogisticRegression.html).\n",
    "\n",
    "\n",
    "[Example:](https://scikit-learn.org/stable/auto_examples/classification/plot_classifier_comparison.html)\n",
    "<center><img src=\"img/clfs.png\" width=\"500\"></center>\n",
    "\n",
    "Let's just import them and fit."
   ]
  },
  {
   "cell_type": "code",
   "execution_count": 9,
   "metadata": {
    "collapsed": false
   },
   "outputs": [
    {
     "data": {
      "text/plain": [
       "KNeighborsClassifier(algorithm='auto', leaf_size=30, metric='minkowski',\n",
       "                     metric_params=None, n_jobs=None, n_neighbors=5, p=2,\n",
       "                     weights='uniform')"
      ]
     },
     "execution_count": 9,
     "metadata": {
     },
     "output_type": "execute_result"
    }
   ],
   "source": [
    "# Import kNN classifier\n",
    "from sklearn.neighbors import KNeighborsClassifier\n",
    "\n",
    "# Create an object of the classifier's class\n",
    "knn = KNeighborsClassifier(n_neighbors=5)\n",
    "\n",
    "# Fit the classifier\n",
    "knn.fit(X_train, y_train)"
   ]
  },
  {
   "cell_type": "code",
   "execution_count": 10,
   "metadata": {
    "collapsed": false
   },
   "outputs": [
    {
     "data": {
      "text/plain": [
       "DecisionTreeClassifier(class_weight=None, criterion='gini', max_depth=None,\n",
       "                       max_features=None, max_leaf_nodes=None,\n",
       "                       min_impurity_decrease=0.0, min_impurity_split=None,\n",
       "                       min_samples_leaf=10, min_samples_split=2,\n",
       "                       min_weight_fraction_leaf=0.0, presort=False,\n",
       "                       random_state=11, splitter='best')"
      ]
     },
     "execution_count": 10,
     "metadata": {
     },
     "output_type": "execute_result"
    }
   ],
   "source": [
    "# Import Decision Tree classifier\n",
    "from sklearn.tree import DecisionTreeClassifier\n",
    "\n",
    "# Create an object of the classifier's class\n",
    "dt = DecisionTreeClassifier(criterion='gini', splitter='best', max_depth=None, \n",
    "                            min_samples_split=2, min_samples_leaf=10, class_weight=None, random_state=11)\n",
    "\n",
    "# Fit the classifier\n",
    "dt.fit(X_train, y_train)"
   ]
  },
  {
   "cell_type": "code",
   "execution_count": 11,
   "metadata": {
    "collapsed": false
   },
   "outputs": [
    {
     "data": {
      "text/plain": [
       "LogisticRegression(C=1.0, class_weight=None, dual=False, fit_intercept=True,\n",
       "                   intercept_scaling=1, l1_ratio=None, max_iter=1000,\n",
       "                   multi_class='warn', n_jobs=None, penalty='l2',\n",
       "                   random_state=11, solver='lbfgs', tol=0.0001, verbose=0,\n",
       "                   warm_start=False)"
      ]
     },
     "execution_count": 11,
     "metadata": {
     },
     "output_type": "execute_result"
    }
   ],
   "source": [
    "# Import Logistic Regression classifier\n",
    "from sklearn.linear_model import LogisticRegression\n",
    "\n",
    "# Create an object of the classifier's class\n",
    "logreg = LogisticRegression(penalty='l2', C=1.0, max_iter=1000, class_weight=None, solver='lbfgs', random_state=11)\n",
    "\n",
    "# Fit the classifier\n",
    "logreg.fit(X_train, y_train)"
   ]
  },
  {
   "cell_type": "markdown",
   "metadata": {
    "collapsed": false
   },
   "source": [
    "## Make Predictions"
   ]
  },
  {
   "cell_type": "markdown",
   "metadata": {
    "collapsed": false
   },
   "source": [
    "Make prediction of target **label**."
   ]
  },
  {
   "cell_type": "code",
   "execution_count": 12,
   "metadata": {
    "collapsed": false
   },
   "outputs": [
   ],
   "source": [
    "# kNN\n",
    "y_test_knn = knn.predict(X_test)\n",
    "\n",
    "# Decision Tree\n",
    "y_test_dt = dt.predict(X_test)\n",
    "\n",
    "# Logistic Regression\n",
    "y_test_logreg = logreg.predict(X_test)"
   ]
  },
  {
   "cell_type": "code",
   "execution_count": 13,
   "metadata": {
    "collapsed": false
   },
   "outputs": [
    {
     "name": "stdout",
     "output_type": "stream",
     "text": [
      "Truth  :  [0 1 0 1 0 0 0 0 0 0]\n",
      "kNN    :  [0 1 0 1 0 0 0 0 0 0]\n",
      "DT     :  [0 1 0 1 0 0 0 0 0 0]\n",
      "LogReg :  [0 1 0 1 0 0 0 0 0 0]\n"
     ]
    }
   ],
   "source": [
    "print(\"Truth  : \", y_test[:10])\n",
    "print(\"kNN    : \", y_test_knn[:10])\n",
    "print(\"DT     : \", y_test_dt[:10])\n",
    "print(\"LogReg : \", y_test_logreg[:10])"
   ]
  },
  {
   "cell_type": "markdown",
   "metadata": {
    "collapsed": false
   },
   "source": [
    "Make prediction of **probability** of the positive class."
   ]
  },
  {
   "cell_type": "code",
   "execution_count": 14,
   "metadata": {
    "collapsed": false
   },
   "outputs": [
   ],
   "source": [
    "# kNN\n",
    "y_test_proba_knn = knn.predict_proba(X_test)[:, 1] # probability of positive response\n",
    "\n",
    "# Decision Tree\n",
    "y_test_proba_dt = dt.predict_proba(X_test)[:, 1]\n",
    "\n",
    "# Logistic Regression\n",
    "y_test_proba_logreg = logreg.predict_proba(X_test)[:, 1]"
   ]
  },
  {
   "cell_type": "code",
   "execution_count": 15,
   "metadata": {
    "collapsed": false
   },
   "outputs": [
    {
     "name": "stdout",
     "output_type": "stream",
     "text": [
      "Truth  :  [0 1 0 1 0 0 0 0 0 0]\n",
      "kNN    :  [0. 1. 0. 1. 0. 0. 0. 0. 0. 0.]\n",
      "DT     :  [0.  1.  0.  1.  0.  0.  0.2 0.  0.  0.2]\n",
      "LogReg :  [7.23297632e-03 9.91909509e-01 2.63422040e-02 9.99673561e-01\n",
      " 2.57153347e-04 2.57576493e-03 3.49650172e-03 9.97284912e-03\n",
      " 3.59248585e-03 3.42034324e-02]\n"
     ]
    }
   ],
   "source": [
    "print(\"Truth  : \", y_test[:10])\n",
    "print(\"kNN    : \", y_test_proba_knn[:10])\n",
    "print(\"DT     : \", y_test_proba_dt[:10])\n",
    "print(\"LogReg : \", y_test_proba_logreg[:10])"
   ]
  },
  {
   "cell_type": "markdown",
   "metadata": {
    "collapsed": false
   },
   "source": [
    "## Label-based Quality Metrics"
   ]
  },
  {
   "cell_type": "markdown",
   "metadata": {
    "collapsed": false
   },
   "source": [
    "Consider a confusion matrix:\n",
    "\n",
    "<center><img src='img/binary_conf.png'></center>\n",
    "\n",
    "* TP (true positive) - currectly predicted positives\n",
    "* FP (false positive) - incorrectly predicted negatives (1st order error)\n",
    "* FN (false negative) - incorrectly predicted positives (2nd order error)\n",
    "* TN (true negative) - currectly predicted negatives\n",
    "* Pos (Neg) - total number of positives (negatives)\n",
    "\n",
    "Quality metrics:\n",
    "\n",
    "* $ \\text{Accuracy} = \\frac{TP + TN}{Pos+Neg}$\n",
    "* $ \\text{Error rate} = 1 -\\text{accuracy}$\n",
    "* $ \\text{Precision} =\\frac{TP}{TP + FP}$ \n",
    "* $ \\text{Recall} =\\frac{TP}{TP + FN} = \\frac{TP}{Pos}$\n",
    "* $ \\text{F}_\\beta \\text{-score} = (1 + \\beta^2) \\cdot \\frac{\\mathrm{precision} \\cdot \\mathrm{recall}}{(\\beta^2 \\cdot \\mathrm{precision}) + \\mathrm{recall}}$"
   ]
  },
  {
   "cell_type": "markdown",
   "metadata": {
    "collapsed": false
   },
   "source": [
    "### Task 1\n",
    "Complete a function that computes TP, FP, TN, FN, Accuracy, Error rate, Precision, Recall and F1-score metrics for a classifier.\n",
    "\n",
    "**Hint:** use implementation of the metrics from `sklearn.metrics` as it is shown below. Example for confusin matrix: https://scikit-learn.org/stable/modules/generated/sklearn.metrics.confusion_matrix.html#sklearn.metrics.confusion_matrix"
   ]
  },
  {
   "cell_type": "code",
   "execution_count": 16,
   "metadata": {
    "collapsed": false,
    "nbgrader": {
     "grade": false,
     "grade_id": "9454d8_answer",
     "locked": false,
     "schema_version": 3,
     "solution": true,
     "task": false
    }
   },
   "outputs": [
   ],
   "source": [
    "from sklearn.metrics import confusion_matrix, accuracy_score, precision_score, recall_score, f1_score\n",
    "\n",
    "def quality_metrics_report(y_true, y_pred):\n",
    "    \"\"\"\n",
    "    Parameters\n",
    "    ----------\n",
    "    y_true: array-like of shape (n_samples,)\n",
    "        Ground truth (correct) target values.\n",
    "    y_pred: array-like of shape (n_samples,)\n",
    "        Estimated targets as returned by a classifier.\n",
    "        \n",
    "    Returns\n",
    "    -------\n",
    "    List of metric values: [tp, fp, fn, tn, accuracy, error_rate, precision, recall, f1]\n",
    "    \"\"\"\n",
    "    \n",
    "    ### BEGIN SOLUTION\n",
    "    tn, fp, fn, tp = confusion_matrix(y_true, y_pred).ravel()\n",
    "    accuracy = accuracy_score(y_true, y_pred)\n",
    "    error_rate = 1 - accuracy\n",
    "    precision = precision_score(y_true, y_pred)\n",
    "    recall = recall_score(y_true, y_pred)\n",
    "    f1 = f1_score(y_true, y_pred)\n",
    "    ### END SOLUTION\n",
    "    \n",
    "    return [tp, fp, fn, tn, accuracy, error_rate, precision, recall, f1]"
   ]
  },
  {
   "cell_type": "code",
   "execution_count": 17,
   "metadata": {
    "collapsed": false
   },
   "outputs": [
    {
     "data": {
      "text/plain": [
       "[1, 2, 1, 0, 0.25, 0.75, 0.3333333333333333, 0.5, 0.4]"
      ]
     },
     "execution_count": 17,
     "metadata": {
     },
     "output_type": "execute_result"
    }
   ],
   "source": [
    "quality_metrics_report([0, 1, 0, 1], [1, 1, 1, 0])"
   ]
  },
  {
   "cell_type": "markdown",
   "metadata": {
    "collapsed": false
   },
   "source": [
    "Expected output:\n",
    "\n",
    "<center>   \n",
    "    \n",
    "```python\n",
    "[1, 2, 1, 0, 0.25, 0.75, 0.3333333333333333, 0.5, 0.4]\n",
    "    \n",
    "``` \n",
    "    \n",
    "</center>"
   ]
  },
  {
   "cell_type": "code",
   "execution_count": 18,
   "metadata": {
    "collapsed": false,
    "nbgrader": {
     "grade": true,
     "grade_id": "9454d8",
     "locked": true,
     "points": 1,
     "schema_version": 3,
     "solution": false,
     "task": false
    }
   },
   "outputs": [
   ],
   "source": [
    "### BEGIN HIDDEN TESTS\n",
    "actual  = quality_metrics_report([0, 1, 0, 1], [1, 1, 1, 0])\n",
    "desired = [1, 2, 1, 0, 0.25, 0.75, 0.3333333333333333, 0.5, 0.4]\n",
    "np_testing.assert_almost_equal(actual, desired, decimal=1)\n",
    "### END HIDDEN TESTS"
   ]
  },
  {
   "cell_type": "markdown",
   "metadata": {
    "collapsed": false
   },
   "source": [
    "Now let's compute all these quality metrics for all classifiers considered above."
   ]
  },
  {
   "cell_type": "code",
   "execution_count": 19,
   "metadata": {
    "collapsed": false
   },
   "outputs": [
    {
     "data": {
      "text/html": [
       "<div>\n",
       "<style scoped>\n",
       "    .dataframe tbody tr th:only-of-type {\n",
       "        vertical-align: middle;\n",
       "    }\n",
       "\n",
       "    .dataframe tbody tr th {\n",
       "        vertical-align: top;\n",
       "    }\n",
       "\n",
       "    .dataframe thead th {\n",
       "        text-align: right;\n",
       "    }\n",
       "</style>\n",
       "<table border=\"1\" class=\"dataframe\">\n",
       "  <thead>\n",
       "    <tr style=\"text-align: right;\">\n",
       "      <th></th>\n",
       "      <th>TP</th>\n",
       "      <th>FP</th>\n",
       "      <th>FN</th>\n",
       "      <th>TN</th>\n",
       "      <th>Accuracy</th>\n",
       "      <th>Error rate</th>\n",
       "      <th>Precision</th>\n",
       "      <th>Recall</th>\n",
       "      <th>F1</th>\n",
       "    </tr>\n",
       "  </thead>\n",
       "  <tbody>\n",
       "    <tr>\n",
       "      <td>kNN</td>\n",
       "      <td>689</td>\n",
       "      <td>62</td>\n",
       "      <td>130</td>\n",
       "      <td>8068</td>\n",
       "      <td>0.978545</td>\n",
       "      <td>0.0214549</td>\n",
       "      <td>0.917443</td>\n",
       "      <td>0.84127</td>\n",
       "      <td>0.877707</td>\n",
       "    </tr>\n",
       "    <tr>\n",
       "      <td>DT</td>\n",
       "      <td>706</td>\n",
       "      <td>90</td>\n",
       "      <td>113</td>\n",
       "      <td>8040</td>\n",
       "      <td>0.977316</td>\n",
       "      <td>0.0226841</td>\n",
       "      <td>0.886935</td>\n",
       "      <td>0.862027</td>\n",
       "      <td>0.874303</td>\n",
       "    </tr>\n",
       "    <tr>\n",
       "      <td>LogReg</td>\n",
       "      <td>677</td>\n",
       "      <td>49</td>\n",
       "      <td>142</td>\n",
       "      <td>8081</td>\n",
       "      <td>0.978657</td>\n",
       "      <td>0.0213432</td>\n",
       "      <td>0.932507</td>\n",
       "      <td>0.826618</td>\n",
       "      <td>0.876375</td>\n",
       "    </tr>\n",
       "  </tbody>\n",
       "</table>\n",
       "</div>"
      ],
      "text/plain": [
       "         TP  FP   FN    TN  Accuracy Error rate Precision    Recall        F1\n",
       "kNN     689  62  130  8068  0.978545  0.0214549  0.917443   0.84127  0.877707\n",
       "DT      706  90  113  8040  0.977316  0.0226841  0.886935  0.862027  0.874303\n",
       "LogReg  677  49  142  8081  0.978657  0.0213432  0.932507  0.826618  0.876375"
      ]
     },
     "execution_count": 19,
     "metadata": {
     },
     "output_type": "execute_result"
    }
   ],
   "source": [
    "metrics_report = pd.DataFrame(columns=['TP', 'FP', 'FN', 'TN', 'Accuracy', 'Error rate', 'Precision', 'Recall', 'F1'])\n",
    "\n",
    "metrics_report.loc['kNN', :] = quality_metrics_report(y_test, y_test_knn)\n",
    "metrics_report.loc['DT', :] = quality_metrics_report(y_test, y_test_dt)\n",
    "metrics_report.loc['LogReg', :] = quality_metrics_report(y_test, y_test_logreg)\n",
    "\n",
    "metrics_report"
   ]
  },
  {
   "cell_type": "markdown",
   "metadata": {
    "collapsed": false
   },
   "source": [
    "## Probability-based Quality Metrics"
   ]
  },
  {
   "cell_type": "markdown",
   "metadata": {
    "collapsed": false
   },
   "source": [
    "### ROC curve\n",
    "\n",
    "The receiver operating characteristic curve (ROC) measures how well a classifier separates two classes. \n",
    "\n",
    "Let $y_{\\rm i}$ is a true label and $\\hat{y}_{\\rm i}$ is a predicted score for the $i^{\\rm th}$ observation. \n",
    "\n",
    "The numbers of positive and negative observations: $\\mathcal{I}_{\\rm 1} = \\{i: y_{\\rm i}=1\\}$ and $\\mathcal{I}_{\\rm 0} = \\{i: y_{\\rm i}=0\\}$. \n",
    "\n",
    "The sum of observation weights for each class: $W_{\\rm 1} = \\sum_{i \\in \\mathcal{I}_{\\rm 1}} w_{\\rm i}$ and  $W_{\\rm 0} = \\sum_{i \\in \\mathcal{I}_{\\rm 0}} w_{\\rm i}$. \n",
    "\n",
    "For each predicted score threshold value $\\tau$, True Positive Rate (TPR) and False Positive Rate (FPR) are calculated:\n",
    "\n",
    "\\begin{equation}\n",
    "TPR(\\tau) = \\frac{1}{W_{\\rm 1}} \\sum_{i \\in \\mathcal{I}_{\\rm 1}} I[\\hat{y}_{\\rm i} \\ge \\tau] w_{\\rm i}\n",
    "\\end{equation}\n",
    "\n",
    "\\begin{equation}\n",
    "FPR(\\tau) = \\frac{1}{W_{\\rm 0}} \\sum_{i \\in \\mathcal{I}_{\\rm 0}} I[\\hat{y}_{\\rm i} \\ge \\tau] w_{\\rm i}\n",
    "\\end{equation}"
   ]
  },
  {
   "cell_type": "markdown",
   "metadata": {
    "collapsed": false
   },
   "source": [
    "### Task 2\n",
    "Complete the fucntion below, that computes a ROC curve and ROC AUC for a classifier.\n",
    "\n",
    "**Hint:** use `roc_curve` and `auc` from `from sklearn.metrics`."
   ]
  },
  {
   "cell_type": "code",
   "execution_count": 20,
   "metadata": {
    "collapsed": false,
    "nbgrader": {
     "grade": false,
     "grade_id": "7dc45a_answer",
     "locked": false,
     "schema_version": 3,
     "solution": true,
     "task": false
    }
   },
   "outputs": [
   ],
   "source": [
    "from sklearn.metrics import roc_curve, auc\n",
    "\n",
    "def roc_curve_report(y_true, y_proba):\n",
    "    \"\"\"\n",
    "    Parameters\n",
    "    ----------\n",
    "    y_true: array-like of shape (n_samples,)\n",
    "        Ground truth (correct) target values.\n",
    "    y_proba: array-like of shape (n_samples,)\n",
    "        Predicted probabilities of the positive class predicted by a classifier.\n",
    "        \n",
    "    Returns\n",
    "    -------\n",
    "    fpr : array, shape = [>2]\n",
    "        Increasing false positive rates such that element i is the false\n",
    "        positive rate of predictions with score >= thresholds[i].\n",
    "    tpr : array, shape = [>2]\n",
    "        Increasing true positive rates such that element i is the true\n",
    "        positive rate of predictions with score >= thresholds[i].\n",
    "    roc_auc : float\n",
    "        Area under the ROC curve defined by the fpr and tpr.\n",
    "    \"\"\"\n",
    "    \n",
    "    ### BEGIN SOLUTION\n",
    "    fpr, tpr, _ = roc_curve(y_true, y_proba)\n",
    "    roc_auc      = auc(fpr, tpr)\n",
    "    ### END SOLUTION\n",
    "    \n",
    "    return fpr, tpr, roc_auc"
   ]
  },
  {
   "cell_type": "code",
   "execution_count": 21,
   "metadata": {
    "collapsed": false
   },
   "outputs": [
    {
     "data": {
      "text/plain": [
       "(array([0. , 0. , 0.5, 0.5, 1. ]), array([0. , 0.5, 0.5, 1. , 1. ]), 0.75)"
      ]
     },
     "execution_count": 21,
     "metadata": {
     },
     "output_type": "execute_result"
    }
   ],
   "source": [
    "roc_curve_report([0, 1, 0, 1], [0.6, 0.9, 0.1, 0.4])"
   ]
  },
  {
   "cell_type": "markdown",
   "metadata": {
    "collapsed": false
   },
   "source": [
    "Expected output:\n",
    "\n",
    "<center>   \n",
    "    \n",
    "```python\n",
    "(array([0. , 0. , 0.5, 0.5, 1. ]), array([0. , 0.5, 0.5, 1. , 1. ]), 0.75)\n",
    "    \n",
    "``` \n",
    "    \n",
    "</center>"
   ]
  },
  {
   "cell_type": "code",
   "execution_count": 22,
   "metadata": {
    "collapsed": false,
    "nbgrader": {
     "grade": true,
     "grade_id": "7dc45a",
     "locked": true,
     "points": 1,
     "schema_version": 3,
     "solution": false,
     "task": false
    }
   },
   "outputs": [
   ],
   "source": [
    "### BEGIN HIDDEN TESTS\n",
    "actual  = roc_curve_report([0, 1, 0, 1], [0.6, 0.9, 0.1, 0.4])[0]\n",
    "desired = np.array([0. , 0. , 0.5, 0.5, 1. ])\n",
    "np_testing.assert_almost_equal(actual, desired, decimal=1)\n",
    "### END HIDDEN TESTS"
   ]
  },
  {
   "cell_type": "markdown",
   "metadata": {
    "collapsed": false
   },
   "source": [
    "Now let's plot ROC curves for all classifiers considered above."
   ]
  },
  {
   "cell_type": "code",
   "execution_count": 23,
   "metadata": {
    "collapsed": false
   },
   "outputs": [
   ],
   "source": [
    "from sklearn.metrics import roc_curve, auc\n",
    "\n",
    "fpr_knn, tpr_knn, auc_knn          = roc_curve_report(y_test, y_test_proba_knn)\n",
    "fpr_dt, tpr_dt, auc_dt             = roc_curve_report(y_test, y_test_proba_dt)\n",
    "fpr_logreg, tpr_logreg, auc_logreg = roc_curve_report(y_test, y_test_proba_logreg)"
   ]
  },
  {
   "cell_type": "code",
   "execution_count": 24,
   "metadata": {
    "collapsed": false
   },
   "outputs": [
    {
     "data": {
      "image/png": "[encoded data removed]",
      "text/plain": [
       "<Figure size 648x432 with 1 Axes>"
      ]
     },
     "execution_count": 24,
     "metadata": {
      "needs_background": "light"
     },
     "output_type": "execute_result"
    },
    {
     "name": "stdout",
     "output_type": "stream",
     "text": [
      "kNN ROC AUC    : 0.950121424291166\n",
      "DT ROC AUC     : 0.9518132543962801\n",
      "LogReg ROC AUC : 0.9771436981769085\n"
     ]
    }
   ],
   "source": [
    "plt.figure(figsize=(9, 6))\n",
    "plt.plot(fpr_knn, tpr_knn, linewidth=3, label='kNN')\n",
    "plt.plot(fpr_dt, tpr_dt, linewidth=3, label='DT')\n",
    "plt.plot(fpr_logreg, tpr_logreg, linewidth=3, label='LogReg')\n",
    "\n",
    "plt.xlabel('FPR', size=18)\n",
    "plt.ylabel('TPR', size=18)\n",
    "\n",
    "plt.legend(loc='best', fontsize=14)\n",
    "plt.grid(b=1)\n",
    "plt.show()\n",
    "\n",
    "print('kNN ROC AUC    :', auc_knn)\n",
    "print('DT ROC AUC     :', auc_dt)\n",
    "print('LogReg ROC AUC :', auc_logreg)"
   ]
  },
  {
   "cell_type": "markdown",
   "metadata": {
    "collapsed": false
   },
   "source": [
    "### Precision-Recall curve\n",
    "\n",
    "The same idea as for ROC curve."
   ]
  },
  {
   "cell_type": "code",
   "execution_count": 25,
   "metadata": {
    "collapsed": false
   },
   "outputs": [
   ],
   "source": [
    "from sklearn.metrics import precision_recall_curve, auc\n",
    "\n",
    "precision_knn, recall_knn, _ = precision_recall_curve(y_test, y_test_proba_knn)\n",
    "#auc_knn = auc(fpr_knn, tpr_knn)\n",
    "\n",
    "precision_dt, recall_dt, _ = precision_recall_curve(y_test, y_test_proba_dt)\n",
    "#auc_dt = auc(fpr_dt, tpr_dt)\n",
    "\n",
    "precision_logreg, recall_logreg, _ = precision_recall_curve(y_test, y_test_proba_logreg)\n",
    "#auc_logreg = auc(fpr_logreg, tpr_logreg)"
   ]
  },
  {
   "cell_type": "code",
   "execution_count": 26,
   "metadata": {
    "collapsed": false
   },
   "outputs": [
    {
     "data": {
      "image/png": "[encoded data removed]",
      "text/plain": [
       "<Figure size 648x432 with 1 Axes>"
      ]
     },
     "execution_count": 26,
     "metadata": {
      "needs_background": "light"
     },
     "output_type": "execute_result"
    }
   ],
   "source": [
    "plt.figure(figsize=(9, 6))\n",
    "plt.plot(recall_knn, precision_knn, linewidth=3, label='kNN')\n",
    "plt.plot(recall_dt, precision_dt, linewidth=3, label='DT')\n",
    "plt.plot(recall_logreg, precision_logreg, linewidth=3, label='LogReg')\n",
    "\n",
    "plt.xlabel('Recall', size=18)\n",
    "plt.ylabel('Precision', size=18)\n",
    "\n",
    "plt.legend(loc='best', fontsize=14)\n",
    "plt.grid(b=1)\n",
    "plt.show()"
   ]
  },
  {
   "cell_type": "markdown",
   "metadata": {
    "collapsed": false
   },
   "source": [
    "**Questions**:\n",
    "* Which classifier is better?\n",
    "* How can you improve the quality of these models?"
   ]
  },
  {
   "cell_type": "markdown",
   "metadata": {
    "collapsed": false
   },
   "source": [
    "---"
   ]
  },
  {
   "cell_type": "markdown",
   "metadata": {
    "collapsed": false
   },
   "source": [
    "# Part 2: Regression Quality Metrics"
   ]
  },
  {
   "cell_type": "markdown",
   "metadata": {
    "collapsed": false
   },
   "source": [
    "## Create Data"
   ]
  },
  {
   "cell_type": "code",
   "execution_count": 27,
   "metadata": {
    "collapsed": false
   },
   "outputs": [
   ],
   "source": [
    "# Create the dataset\n",
    "X = np.linspace(0, 6, 200)[:, np.newaxis]\n",
    "y = np.sin(X).ravel() + np.sin(6 * X).ravel() + np.random.RandomState(1).normal(0, 0.1, X.shape[0]) + 3"
   ]
  },
  {
   "cell_type": "code",
   "execution_count": 28,
   "metadata": {
    "collapsed": false
   },
   "outputs": [
    {
     "data": {
      "text/plain": [
       "array([[0.        ],\n",
       "       [0.03015075],\n",
       "       [0.06030151],\n",
       "       [0.09045226],\n",
       "       [0.12060302]])"
      ]
     },
     "execution_count": 28,
     "metadata": {
     },
     "output_type": "execute_result"
    }
   ],
   "source": [
    "X[:5]"
   ]
  },
  {
   "cell_type": "code",
   "execution_count": 29,
   "metadata": {
    "collapsed": false
   },
   "outputs": [
    {
     "data": {
      "text/plain": [
       "array([3.16243454, 3.14888995, 3.36141453, 3.49949366, 3.86895208])"
      ]
     },
     "execution_count": 29,
     "metadata": {
     },
     "output_type": "execute_result"
    }
   ],
   "source": [
    "y[:5]"
   ]
  },
  {
   "cell_type": "code",
   "execution_count": 30,
   "metadata": {
    "collapsed": false
   },
   "outputs": [
    {
     "data": {
      "image/png": "[encoded data removed]",
      "text/plain": [
       "<Figure size 648x432 with 1 Axes>"
      ]
     },
     "execution_count": 30,
     "metadata": {
      "needs_background": "light"
     },
     "output_type": "execute_result"
    }
   ],
   "source": [
    "plt.figure(figsize=(9, 6))\n",
    "plt.scatter(X[:, 0], y)\n",
    "\n",
    "plt.xlabel('X', size=18)\n",
    "plt.ylabel('y', size=18)\n",
    "plt.grid(b=1)\n",
    "plt.show()"
   ]
  },
  {
   "cell_type": "markdown",
   "metadata": {
    "collapsed": false
   },
   "source": [
    "## Train / Test Split"
   ]
  },
  {
   "cell_type": "code",
   "execution_count": 31,
   "metadata": {
    "collapsed": false
   },
   "outputs": [
   ],
   "source": [
    "from sklearn.model_selection import train_test_split\n",
    "\n",
    "# Split data into train and test samples\n",
    "# \n",
    "X_train, X_test, y_train, y_test = train_test_split(X, y, test_size=0.5, random_state=42)"
   ]
  },
  {
   "cell_type": "markdown",
   "metadata": {
    "collapsed": false
   },
   "source": [
    "## Fit Regressors\n",
    "\n",
    "You have learnt three regressors:\n",
    "* kNN\n",
    "* Decision Tree\n",
    "* Linear Regression\n",
    "\n",
    "We will use scikit-learn implementation of these regressors. Their descriptions: [kNN](https://scikit-learn.org/stable/modules/generated/sklearn.neighbors.KNeighborsRegressor.html), [Decision Tree](https://scikit-learn.org/stable/modules/generated/sklearn.tree.DecisionTreeRegressor.html), [Logistic Regression](https://scikit-learn.org/stable/modules/generated/sklearn.linear_model.LinearRegression.html).\n",
    "\n",
    "Let's just import them and fit."
   ]
  },
  {
   "cell_type": "code",
   "execution_count": 32,
   "metadata": {
    "collapsed": false
   },
   "outputs": [
    {
     "data": {
      "text/plain": [
       "KNeighborsRegressor(algorithm='auto', leaf_size=30, metric='minkowski',\n",
       "                    metric_params=None, n_jobs=None, n_neighbors=10, p=2,\n",
       "                    weights='uniform')"
      ]
     },
     "execution_count": 32,
     "metadata": {
     },
     "output_type": "execute_result"
    }
   ],
   "source": [
    "# Import kNN regressor\n",
    "from sklearn.neighbors import KNeighborsRegressor\n",
    "\n",
    "# Create object of the regressor's class\n",
    "knn_reg = KNeighborsRegressor(n_neighbors=10)\n",
    "\n",
    "# Fit the regressor\n",
    "knn_reg.fit(X_train, y_train)"
   ]
  },
  {
   "cell_type": "code",
   "execution_count": 33,
   "metadata": {
    "collapsed": false
   },
   "outputs": [
    {
     "data": {
      "text/plain": [
       "DecisionTreeRegressor(criterion='mse', max_depth=4, max_features=None,\n",
       "                      max_leaf_nodes=None, min_impurity_decrease=0.0,\n",
       "                      min_impurity_split=None, min_samples_leaf=1,\n",
       "                      min_samples_split=2, min_weight_fraction_leaf=0.0,\n",
       "                      presort=False, random_state=11, splitter='best')"
      ]
     },
     "execution_count": 33,
     "metadata": {
     },
     "output_type": "execute_result"
    }
   ],
   "source": [
    "# Import Decision Tree regressor\n",
    "from sklearn.tree import DecisionTreeRegressor\n",
    "\n",
    "# Create object of the regressor's class\n",
    "dt_reg = DecisionTreeRegressor(criterion='mse', splitter='best', max_depth=4, \n",
    "                            min_samples_split=2, min_samples_leaf=1, random_state=11)\n",
    "\n",
    "# Fit the regressor\n",
    "dt_reg.fit(X_train, y_train)"
   ]
  },
  {
   "cell_type": "code",
   "execution_count": 34,
   "metadata": {
    "collapsed": false
   },
   "outputs": [
    {
     "data": {
      "text/plain": [
       "LinearRegression(copy_X=True, fit_intercept=True, n_jobs=None, normalize=False)"
      ]
     },
     "execution_count": 34,
     "metadata": {
     },
     "output_type": "execute_result"
    }
   ],
   "source": [
    "# Import Linear Regression regressor\n",
    "from sklearn.linear_model import LinearRegression\n",
    "\n",
    "# Create object of the regressor's class\n",
    "linreg = LinearRegression()\n",
    "\n",
    "# Fit the regressor\n",
    "linreg.fit(X_train, y_train)"
   ]
  },
  {
   "cell_type": "markdown",
   "metadata": {
    "collapsed": false
   },
   "source": [
    "## Make Predictions"
   ]
  },
  {
   "cell_type": "code",
   "execution_count": 35,
   "metadata": {
    "collapsed": false
   },
   "outputs": [
   ],
   "source": [
    "# kNN\n",
    "y_test_knn_reg = knn_reg.predict(X_test)\n",
    "\n",
    "# DT\n",
    "y_test_dt_reg = dt_reg.predict(X_test)\n",
    "\n",
    "# LinReg\n",
    "y_test_linreg = linreg.predict(X_test)"
   ]
  },
  {
   "cell_type": "code",
   "execution_count": 36,
   "metadata": {
    "collapsed": false
   },
   "outputs": [
    {
     "data": {
      "image/png": "[encoded data removed]",
      "text/plain": [
       "<Figure size 1080x432 with 1 Axes>"
      ]
     },
     "execution_count": 36,
     "metadata": {
      "needs_background": "light"
     },
     "output_type": "execute_result"
    }
   ],
   "source": [
    "plt.figure(figsize=(15, 6))\n",
    "plt.scatter(X_test[:, 0], y_test, color='0', label='Truth')\n",
    "\n",
    "sortd_inds = np.argsort(X_test[:, 0])\n",
    "plt.plot(X_test[sortd_inds, 0], y_test_knn_reg[sortd_inds], linewidth=3, color='b', label='kNN')\n",
    "plt.plot(X_test[sortd_inds, 0], y_test_dt_reg[sortd_inds], linewidth=3, color='r', label='DT')\n",
    "plt.plot(X_test[sortd_inds, 0], y_test_linreg[sortd_inds], linewidth=3, color='g', label='LinReg')\n",
    "\n",
    "plt.xlabel('X', size=18)\n",
    "plt.ylabel('y', size=18)\n",
    "plt.legend(loc='best', fontsize=14)\n",
    "plt.grid(b=1)\n",
    "plt.show()"
   ]
  },
  {
   "cell_type": "markdown",
   "metadata": {
    "collapsed": false
   },
   "source": [
    "**Questions**:\n",
    "* How can you explain behavior of the regressors?\n",
    "* What will happen if one changes their hyperparameters?"
   ]
  },
  {
   "cell_type": "markdown",
   "metadata": {
    "collapsed": false
   },
   "source": [
    "## Quality Metrics"
   ]
  },
  {
   "cell_type": "markdown",
   "metadata": {
    "collapsed": false
   },
   "source": [
    "**1. (R)MSE ((Root) Mean Squared Error)**\n",
    "\n",
    "$$ L(\\hat{y}, y) = \\frac{1}{N}\\sum\\limits_{n=1}^N (y_n - \\hat{y}_n)^2$$\n",
    "\n",
    "**2. MAE (Mean Absolute Error)**\n",
    "\n",
    "$$ L(\\hat{y}, y) = \\frac{1}{N}\\sum\\limits_{n=1}^N |y_n - \\hat{y}_n|$$\n",
    "\n",
    "**3. RSE (Relative Squared Error)**\n",
    "\n",
    "$$ L(\\hat{y}, y) = \\sqrt\\frac{\\sum\\limits_{n=1}^N (y_n - \\hat{y}_n)^2}{\\sum\\limits_{n=1}^N (y_n - \\bar{y})^2}$$\n",
    "\n",
    "**4. RAE (Relative Absolute Error)**\n",
    "\n",
    "$$ L(\\hat{y}, y) = \\frac{\\sum\\limits_{n=1}^N |y_n - \\hat{y}_n|}{\\sum\\limits_{n=1}^N |y_n - \\bar{y}|}$$\n",
    "\n",
    "**5. MAPE (Mean Absolute Persentage Error)**\n",
    "\n",
    "$$ L(\\hat{y}, y) = \\frac{100}{N} \\sum\\limits_{n=1}^N\\left|\\frac{ y_n - \\hat{y}_n}{y_n}\\right|$$\n",
    "\n",
    "\n",
    "**6. RMSLE (Root Mean Squared Logarithmic Error)**\n",
    "\n",
    "$$ L(\\hat{y}, y) = \\sqrt{\\frac{1}{N}\\sum\\limits_{n=1}^N(\\log(y_n + 1) - \\log(\\hat{y}_n + 1))^2}$$"
   ]
  },
  {
   "cell_type": "markdown",
   "metadata": {
    "collapsed": false
   },
   "source": [
    "### Task 3\n",
    "Complete the function below that computes mse, mae, rse, rae, mape, rmsle metrics for a regressor."
   ]
  },
  {
   "cell_type": "code",
   "execution_count": 37,
   "metadata": {
    "collapsed": false,
    "nbgrader": {
     "grade": false,
     "grade_id": "22a8f7_answer",
     "locked": false,
     "schema_version": 3,
     "solution": true,
     "task": false
    }
   },
   "outputs": [
   ],
   "source": [
    "from sklearn.metrics import mean_squared_error, mean_absolute_error, mean_squared_log_error\n",
    "\n",
    "def regression_quality_metrics_report(y_true, y_pred):\n",
    "    \"\"\"\n",
    "    Parameters\n",
    "    ----------\n",
    "    y_true: array-like of shape (n_samples,)\n",
    "        Ground truth (correct) target values.\n",
    "    y_pred: array-like of shape (n_samples,)\n",
    "        Estimated targets as returned by a regressor.\n",
    "        \n",
    "    Returns\n",
    "    -------\n",
    "    List of metric values: [rmse, mae, rse, rae, mape, rmsle]\n",
    "    \"\"\"\n",
    "    y_true = np.array(y_true)\n",
    "    y_pred = np.array(y_pred)\n",
    "    \n",
    "    rmse  = np.sqrt( mean_squared_error(y_true, y_pred) )\n",
    "    mae   = mean_absolute_error(y_true, y_pred)\n",
    "    rmsle = np.sqrt( mean_squared_log_error(y_true, y_pred) )\n",
    "    \n",
    "    ### BEGIN SOLUTION\n",
    "    rse  = np.sqrt( ( (y_true - y_pred)**2 ).sum() / ( (y_true - y_true.mean())**2 ).sum() )\n",
    "    rae  = np.abs( y_true - y_pred ).sum() / np.abs( y_true - y_true.mean() ).sum()\n",
    "    mape = 100. / len(y_true) * np.abs( 1. - y_pred/y_true ).sum()\n",
    "    ### END SOLUTION\n",
    "    \n",
    "    return [rmse, mae, rse, rae, mape, rmsle]"
   ]
  },
  {
   "cell_type": "code",
   "execution_count": 38,
   "metadata": {
    "collapsed": false
   },
   "outputs": [
    {
     "data": {
      "text/plain": [
       "[0.8076899021597924,\n",
       " 0.6851055642060055,\n",
       " 0.785078577131241,\n",
       " 0.8107258374023686,\n",
       " 29.634749024687267,\n",
       " 0.22301402015722577]"
      ]
     },
     "execution_count": 38,
     "metadata": {
     },
     "output_type": "execute_result"
    }
   ],
   "source": [
    "regression_quality_metrics_report(y_test, y_test_linreg)"
   ]
  },
  {
   "cell_type": "markdown",
   "metadata": {
    "collapsed": false
   },
   "source": [
    "Expected output:\n",
    "\n",
    "<center>   \n",
    "    \n",
    "```python\n",
    "[0.8076899021597924,\n",
    " 0.6851055642060055,\n",
    " 0.785078577131241,\n",
    " 0.8107258374023686,\n",
    " 29.634749024687267,\n",
    " 0.22301402015722577]\n",
    "    \n",
    "``` \n",
    "    \n",
    "</center>"
   ]
  },
  {
   "cell_type": "code",
   "execution_count": 39,
   "metadata": {
    "collapsed": false,
    "nbgrader": {
     "grade": true,
     "grade_id": "22a8f7",
     "locked": true,
     "points": 1,
     "schema_version": 3,
     "solution": false,
     "task": false
    }
   },
   "outputs": [
   ],
   "source": [
    "### BEGIN HIDDEN TESTS\n",
    "actual  = regression_quality_metrics_report(y_test, y_test_linreg)\n",
    "desired = [0.8076899021597924, 0.6851055642060055, 0.785078577131241, 0.8107258374023686, \n",
    "           29.634749024687267, 0.22301402015722577]\n",
    "np_testing.assert_almost_equal(actual, desired, decimal=1)\n",
    "### END HIDDEN TESTS"
   ]
  },
  {
   "cell_type": "markdown",
   "metadata": {
    "collapsed": false
   },
   "source": [
    "Now let's compute all these metrics for all regressors considered above."
   ]
  },
  {
   "cell_type": "code",
   "execution_count": 40,
   "metadata": {
    "collapsed": false
   },
   "outputs": [
    {
     "data": {
      "text/html": [
       "<div>\n",
       "<style scoped>\n",
       "    .dataframe tbody tr th:only-of-type {\n",
       "        vertical-align: middle;\n",
       "    }\n",
       "\n",
       "    .dataframe tbody tr th {\n",
       "        vertical-align: top;\n",
       "    }\n",
       "\n",
       "    .dataframe thead th {\n",
       "        text-align: right;\n",
       "    }\n",
       "</style>\n",
       "<table border=\"1\" class=\"dataframe\">\n",
       "  <thead>\n",
       "    <tr style=\"text-align: right;\">\n",
       "      <th></th>\n",
       "      <th>RMSE</th>\n",
       "      <th>MAE</th>\n",
       "      <th>RSE</th>\n",
       "      <th>RAE</th>\n",
       "      <th>MAPE</th>\n",
       "      <th>RMSLE</th>\n",
       "    </tr>\n",
       "  </thead>\n",
       "  <tbody>\n",
       "    <tr>\n",
       "      <td>kNN</td>\n",
       "      <td>0.421235</td>\n",
       "      <td>0.357068</td>\n",
       "      <td>0.409443</td>\n",
       "      <td>0.42254</td>\n",
       "      <td>15.3816</td>\n",
       "      <td>0.121781</td>\n",
       "    </tr>\n",
       "    <tr>\n",
       "      <td>DT</td>\n",
       "      <td>0.42662</td>\n",
       "      <td>0.326301</td>\n",
       "      <td>0.414677</td>\n",
       "      <td>0.386131</td>\n",
       "      <td>11.9148</td>\n",
       "      <td>0.112371</td>\n",
       "    </tr>\n",
       "    <tr>\n",
       "      <td>LinReg</td>\n",
       "      <td>0.80769</td>\n",
       "      <td>0.685106</td>\n",
       "      <td>0.785079</td>\n",
       "      <td>0.810726</td>\n",
       "      <td>29.6347</td>\n",
       "      <td>0.223014</td>\n",
       "    </tr>\n",
       "  </tbody>\n",
       "</table>\n",
       "</div>"
      ],
      "text/plain": [
       "            RMSE       MAE       RSE       RAE     MAPE     RMSLE\n",
       "kNN     0.421235  0.357068  0.409443   0.42254  15.3816  0.121781\n",
       "DT       0.42662  0.326301  0.414677  0.386131  11.9148  0.112371\n",
       "LinReg   0.80769  0.685106  0.785079  0.810726  29.6347  0.223014"
      ]
     },
     "execution_count": 40,
     "metadata": {
     },
     "output_type": "execute_result"
    }
   ],
   "source": [
    "metrics_report = pd.DataFrame(columns=['RMSE', 'MAE', 'RSE', 'RAE', 'MAPE', 'RMSLE'])\n",
    "\n",
    "metrics_report.loc['kNN', :] = regression_quality_metrics_report(y_test, y_test_knn_reg)\n",
    "metrics_report.loc['DT', :] = regression_quality_metrics_report(y_test, y_test_dt_reg)\n",
    "metrics_report.loc['LinReg', :] = regression_quality_metrics_report(y_test, y_test_linreg)\n",
    "\n",
    "metrics_report"
   ]
  },
  {
   "cell_type": "markdown",
   "metadata": {
    "collapsed": false
   },
   "source": [
    "**Questions**:\n",
    "* Which regressor is better?\n",
    "* How can you improve the quality of these models??"
   ]
  },
  {
   "cell_type": "code",
   "execution_count": 0,
   "metadata": {
    "collapsed": false
   },
   "outputs": [
   ],
   "source": [
   ]
  }
 ],
 "metadata": {
  "kernelspec": {
   "display_name": "Python 3",
   "language": "python",
   "name": "python3"
  },
  "language_info": {
   "codemirror_mode": {
    "name": "ipython",
    "version": 3
   },
   "file_extension": ".py",
   "mimetype": "text/x-python",
   "name": "python",
   "nbconvert_exporter": "python",
   "pygments_lexer": "ipython3",
   "version": "3.6.9"
  }
 },
 "nbformat": 4,
 "nbformat_minor": 4
}